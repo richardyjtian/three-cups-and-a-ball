{
  "nbformat": 4,
  "nbformat_minor": 0,
  "metadata": {
    "colab": {
      "name": "BallAndCupObjectRecognition.ipynb",
      "provenance": [],
      "authorship_tag": "ABX9TyOBA/CrB52zcjsV1ulH8Aej",
      "include_colab_link": true
    },
    "kernelspec": {
      "name": "python3",
      "display_name": "Python 3"
    }
  },
  "cells": [
    {
      "cell_type": "markdown",
      "metadata": {
        "id": "view-in-github",
        "colab_type": "text"
      },
      "source": [
        "<a href=\"https://colab.research.google.com/github/richardyjtian/threecupsoneball/blob/master/BallAndCupObjectRecognition.ipynb\" target=\"_parent\"><img src=\"https://colab.research.google.com/assets/colab-badge.svg\" alt=\"Open In Colab\"/></a>"
      ]
    },
    {
      "cell_type": "code",
      "metadata": {
        "id": "GWF9UoIrv4SY",
        "colab_type": "code",
        "colab": {
          "base_uri": "https://localhost:8080/",
          "height": 136
        },
        "outputId": "0da69ea7-1dd1-4339-84c6-5f09dc8ab133"
      },
      "source": [
        "!git clone https://github.com/richardyjtian/threecupsoneball.git"
      ],
      "execution_count": 1,
      "outputs": [
        {
          "output_type": "stream",
          "text": [
            "Cloning into 'threecupsoneball'...\n",
            "remote: Enumerating objects: 154, done.\u001b[K\n",
            "remote: Counting objects: 100% (154/154), done.\u001b[K\n",
            "remote: Compressing objects: 100% (149/149), done.\u001b[K\n",
            "remote: Total 374 (delta 14), reused 122 (delta 2), pack-reused 220\u001b[K\n",
            "Receiving objects: 100% (374/374), 427.04 MiB | 47.04 MiB/s, done.\n",
            "Resolving deltas: 100% (14/14), done.\n"
          ],
          "name": "stdout"
        }
      ]
    },
    {
      "cell_type": "code",
      "metadata": {
        "id": "VPDPgIG8xMGv",
        "colab_type": "code",
        "colab": {}
      },
      "source": [
        ""
      ],
      "execution_count": 0,
      "outputs": []
    }
  ]
}