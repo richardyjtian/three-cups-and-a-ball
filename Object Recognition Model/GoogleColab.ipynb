{
  "nbformat": 4,
  "nbformat_minor": 0,
  "metadata": {
    "colab": {
      "name": "Untitled0.ipynb",
      "provenance": [],
      "collapsed_sections": [],
      "mount_file_id": "1xon9oLX-gT19xrzYgYiLRPlOcEL5vYTF",
      "authorship_tag": "ABX9TyN7+8dd61V3s0GD8pcmLThL",
      "include_colab_link": true
    },
    "kernelspec": {
      "name": "python3",
      "display_name": "Python 3"
    },
    "accelerator": "GPU"
  },
  "cells": [
    {
      "cell_type": "markdown",
      "metadata": {
        "id": "view-in-github",
        "colab_type": "text"
      },
      "source": [
        "<a href=\"https://colab.research.google.com/github/richardyjtian/three-cups-and-a-ball/blob/master/Main/GoogleColab.ipynb\" target=\"_parent\"><img src=\"https://colab.research.google.com/assets/colab-badge.svg\" alt=\"Open In Colab\"/></a>"
      ]
    },
    {
      "cell_type": "markdown",
      "metadata": {
        "id": "5e7DcazGFyOf",
        "colab_type": "text"
      },
      "source": [
        "This document displays the steps taken to train our YOLOv3 neural network model on Google Colab. Smaller operations, such as changing directories, are omitted to focus on the more important aspects and to make this document more consise."
      ]
    },
    {
      "cell_type": "code",
      "metadata": {
        "id": "gUUZupp5GTux",
        "colab_type": "code",
        "colab": {}
      },
      "source": [
        "# Training this neural network must utilize GPU in order to complete in a reasonable timeframe.\n",
        "\n",
        "# Go to \"Runtime\" -> \"Change runtime type\" and select \"GPU\" as the Hardware Selector."
      ],
      "execution_count": 0,
      "outputs": []
    },
    {
      "cell_type": "code",
      "metadata": {
        "id": "Ofhy3BQwN4tc",
        "colab_type": "code",
        "colab": {}
      },
      "source": [
        "# Mount my google drive to this Colab notebook so that files can be saved.\n",
        "# This is important because Colab resets the runtime every 12 hours.\n",
        "from google.colab import drive\n",
        "drive.mount('/content/drive')"
      ],
      "execution_count": 0,
      "outputs": []
    },
    {
      "cell_type": "code",
      "metadata": {
        "id": "_WHbwQDGOkw8",
        "colab_type": "code",
        "outputId": "467dd7dc-d700-4d2c-8111-7523718efe2c",
        "colab": {
          "base_uri": "https://localhost:8080/",
          "height": 85
        }
      },
      "source": [
        "# Display the NVIDIA Cuda compiler driver version\n",
        "!nvcc --version"
      ],
      "execution_count": 0,
      "outputs": [
        {
          "output_type": "stream",
          "text": [
            "nvcc: NVIDIA (R) Cuda compiler driver\n",
            "Copyright (c) 2005-2019 NVIDIA Corporation\n",
            "Built on Sun_Jul_28_19:07:16_PDT_2019\n",
            "Cuda compilation tools, release 10.1, V10.1.243\n"
          ],
          "name": "stdout"
        }
      ]
    },
    {
      "cell_type": "code",
      "metadata": {
        "id": "QhMcCN8kHkDv",
        "colab_type": "code",
        "colab": {}
      },
      "source": [
        "# We utilized the YOLOv3 object detection algorithm which was created by Joseph Redmon and Ali\n",
        "# Farhad.\n",
        "# The code for YOLOv3 can be found at https://github.com/pjreddie/darknet\n",
        "# The website for YOLOv3 is https://pjreddie.com/darknet/yolo/\n",
        "# At this point, code from YOLOv3 must be cloned into Google Drive for usage."
      ],
      "execution_count": 0,
      "outputs": []
    },
    {
      "cell_type": "code",
      "metadata": {
        "id": "fQonMPC_HCAT",
        "colab_type": "code",
        "colab": {}
      },
      "source": [
        "# The .cfg file, .data file, and classes.names must be correctly customized correctly to fit\n",
        "# our needs.\n",
        "# These files can be found in the Main/YOLO directory of the Github repository.\n",
        "\n",
        "# Additionally, we must upload our own photos to train the model. Our uploaded photos can be\n",
        "# found at ??????"
      ],
      "execution_count": 0,
      "outputs": []
    },
    {
      "cell_type": "code",
      "metadata": {
        "id": "7-_CQuCLRkpX",
        "colab_type": "code",
        "colab": {}
      },
      "source": [
        "# In the darknet directory, make after the all of the files are ready.\n",
        "!make"
      ],
      "execution_count": 0,
      "outputs": []
    },
    {
      "cell_type": "code",
      "metadata": {
        "id": "t0znDzi3RuSV",
        "colab_type": "code",
        "outputId": "319780fb-8449-4947-e1f4-0b91c91088fc",
        "colab": {
          "base_uri": "https://localhost:8080/",
          "height": 1000
        }
      },
      "source": [
        "# Now, we can train the object detection model.\n",
        "# We begin with pre-trained weights stored in a file called darknet53.conv.74 and train our own\n",
        "# weights.\n",
        "# Weights and backups will be periodically saved so that If training is interrupted, then it may\n",
        "# be resumed by restarting with the most recent weights created.\n",
        "!./darknet detector train /content/drive/My\\ Drive/3c1b/threecupsoneball/YOLO/darknet.data /content/drive/My\\ Drive/3c1b/threecupsoneball/YOLO/darknet-yolov3.cfg ../YOLO/backup4/darknet-yolov3_3000.weights > /content/drive/My\\ Drive/3c1b/threecupsoneball/YOLO/train8.log"
      ],
      "execution_count": 0,
      "outputs": [
        {
          "output_type": "stream",
          "text": [
            "layer     filters    size              input                output\n",
            "    0 conv     32  3 x 3 / 1   416 x 416 x   3   ->   416 x 416 x  32  0.299 BFLOPs\n",
            "    1 conv     64  3 x 3 / 2   416 x 416 x  32   ->   208 x 208 x  64  1.595 BFLOPs\n",
            "    2 conv     32  1 x 1 / 1   208 x 208 x  64   ->   208 x 208 x  32  0.177 BFLOPs\n",
            "    3 conv     64  3 x 3 / 1   208 x 208 x  32   ->   208 x 208 x  64  1.595 BFLOPs\n",
            "    4 res    1                 208 x 208 x  64   ->   208 x 208 x  64\n",
            "    5 conv    128  3 x 3 / 2   208 x 208 x  64   ->   104 x 104 x 128  1.595 BFLOPs\n",
            "    6 conv     64  1 x 1 / 1   104 x 104 x 128   ->   104 x 104 x  64  0.177 BFLOPs\n",
            "    7 conv    128  3 x 3 / 1   104 x 104 x  64   ->   104 x 104 x 128  1.595 BFLOPs\n",
            "    8 res    5                 104 x 104 x 128   ->   104 x 104 x 128\n",
            "    9 conv     64  1 x 1 / 1   104 x 104 x 128   ->   104 x 104 x  64  0.177 BFLOPs\n",
            "   10 conv    128  3 x 3 / 1   104 x 104 x  64   ->   104 x 104 x 128  1.595 BFLOPs\n",
            "   11 res    8                 104 x 104 x 128   ->   104 x 104 x 128\n",
            "   12 conv    256  3 x 3 / 2   104 x 104 x 128   ->    52 x  52 x 256  1.595 BFLOPs\n",
            "   13 conv    128  1 x 1 / 1    52 x  52 x 256   ->    52 x  52 x 128  0.177 BFLOPs\n",
            "   14 conv    256  3 x 3 / 1    52 x  52 x 128   ->    52 x  52 x 256  1.595 BFLOPs\n",
            "   15 res   12                  52 x  52 x 256   ->    52 x  52 x 256\n",
            "   16 conv    128  1 x 1 / 1    52 x  52 x 256   ->    52 x  52 x 128  0.177 BFLOPs\n",
            "   17 conv    256  3 x 3 / 1    52 x  52 x 128   ->    52 x  52 x 256  1.595 BFLOPs\n",
            "   18 res   15                  52 x  52 x 256   ->    52 x  52 x 256\n",
            "   19 conv    128  1 x 1 / 1    52 x  52 x 256   ->    52 x  52 x 128  0.177 BFLOPs\n",
            "   20 conv    256  3 x 3 / 1    52 x  52 x 128   ->    52 x  52 x 256  1.595 BFLOPs\n",
            "   21 res   18                  52 x  52 x 256   ->    52 x  52 x 256\n",
            "   22 conv    128  1 x 1 / 1    52 x  52 x 256   ->    52 x  52 x 128  0.177 BFLOPs\n",
            "   23 conv    256  3 x 3 / 1    52 x  52 x 128   ->    52 x  52 x 256  1.595 BFLOPs\n",
            "   24 res   21                  52 x  52 x 256   ->    52 x  52 x 256\n",
            "   25 conv    128  1 x 1 / 1    52 x  52 x 256   ->    52 x  52 x 128  0.177 BFLOPs\n",
            "   26 conv    256  3 x 3 / 1    52 x  52 x 128   ->    52 x  52 x 256  1.595 BFLOPs\n",
            "   27 res   24                  52 x  52 x 256   ->    52 x  52 x 256\n",
            "   28 conv    128  1 x 1 / 1    52 x  52 x 256   ->    52 x  52 x 128  0.177 BFLOPs\n",
            "   29 conv    256  3 x 3 / 1    52 x  52 x 128   ->    52 x  52 x 256  1.595 BFLOPs\n",
            "   30 res   27                  52 x  52 x 256   ->    52 x  52 x 256\n",
            "   31 conv    128  1 x 1 / 1    52 x  52 x 256   ->    52 x  52 x 128  0.177 BFLOPs\n",
            "   32 conv    256  3 x 3 / 1    52 x  52 x 128   ->    52 x  52 x 256  1.595 BFLOPs\n",
            "   33 res   30                  52 x  52 x 256   ->    52 x  52 x 256\n",
            "   34 conv    128  1 x 1 / 1    52 x  52 x 256   ->    52 x  52 x 128  0.177 BFLOPs\n",
            "   35 conv    256  3 x 3 / 1    52 x  52 x 128   ->    52 x  52 x 256  1.595 BFLOPs\n",
            "   36 res   33                  52 x  52 x 256   ->    52 x  52 x 256\n",
            "   37 conv    512  3 x 3 / 2    52 x  52 x 256   ->    26 x  26 x 512  1.595 BFLOPs\n",
            "   38 conv    256  1 x 1 / 1    26 x  26 x 512   ->    26 x  26 x 256  0.177 BFLOPs\n",
            "   39 conv    512  3 x 3 / 1    26 x  26 x 256   ->    26 x  26 x 512  1.595 BFLOPs\n",
            "   40 res   37                  26 x  26 x 512   ->    26 x  26 x 512\n",
            "   41 conv    256  1 x 1 / 1    26 x  26 x 512   ->    26 x  26 x 256  0.177 BFLOPs\n",
            "   42 conv    512  3 x 3 / 1    26 x  26 x 256   ->    26 x  26 x 512  1.595 BFLOPs\n",
            "   43 res   40                  26 x  26 x 512   ->    26 x  26 x 512\n",
            "   44 conv    256  1 x 1 / 1    26 x  26 x 512   ->    26 x  26 x 256  0.177 BFLOPs\n",
            "   45 conv    512  3 x 3 / 1    26 x  26 x 256   ->    26 x  26 x 512  1.595 BFLOPs\n",
            "   46 res   43                  26 x  26 x 512   ->    26 x  26 x 512\n",
            "   47 conv    256  1 x 1 / 1    26 x  26 x 512   ->    26 x  26 x 256  0.177 BFLOPs\n",
            "   48 conv    512  3 x 3 / 1    26 x  26 x 256   ->    26 x  26 x 512  1.595 BFLOPs\n",
            "   49 res   46                  26 x  26 x 512   ->    26 x  26 x 512\n",
            "   50 conv    256  1 x 1 / 1    26 x  26 x 512   ->    26 x  26 x 256  0.177 BFLOPs\n",
            "   51 conv    512  3 x 3 / 1    26 x  26 x 256   ->    26 x  26 x 512  1.595 BFLOPs\n",
            "   52 res   49                  26 x  26 x 512   ->    26 x  26 x 512\n",
            "   53 conv    256  1 x 1 / 1    26 x  26 x 512   ->    26 x  26 x 256  0.177 BFLOPs\n",
            "   54 conv    512  3 x 3 / 1    26 x  26 x 256   ->    26 x  26 x 512  1.595 BFLOPs\n",
            "   55 res   52                  26 x  26 x 512   ->    26 x  26 x 512\n",
            "   56 conv    256  1 x 1 / 1    26 x  26 x 512   ->    26 x  26 x 256  0.177 BFLOPs\n",
            "   57 conv    512  3 x 3 / 1    26 x  26 x 256   ->    26 x  26 x 512  1.595 BFLOPs\n",
            "   58 res   55                  26 x  26 x 512   ->    26 x  26 x 512\n",
            "   59 conv    256  1 x 1 / 1    26 x  26 x 512   ->    26 x  26 x 256  0.177 BFLOPs\n",
            "   60 conv    512  3 x 3 / 1    26 x  26 x 256   ->    26 x  26 x 512  1.595 BFLOPs\n",
            "   61 res   58                  26 x  26 x 512   ->    26 x  26 x 512\n",
            "   62 conv   1024  3 x 3 / 2    26 x  26 x 512   ->    13 x  13 x1024  1.595 BFLOPs\n",
            "   63 conv    512  1 x 1 / 1    13 x  13 x1024   ->    13 x  13 x 512  0.177 BFLOPs\n",
            "   64 conv   1024  3 x 3 / 1    13 x  13 x 512   ->    13 x  13 x1024  1.595 BFLOPs\n",
            "   65 res   62                  13 x  13 x1024   ->    13 x  13 x1024\n",
            "   66 conv    512  1 x 1 / 1    13 x  13 x1024   ->    13 x  13 x 512  0.177 BFLOPs\n",
            "   67 conv   1024  3 x 3 / 1    13 x  13 x 512   ->    13 x  13 x1024  1.595 BFLOPs\n",
            "   68 res   65                  13 x  13 x1024   ->    13 x  13 x1024\n",
            "   69 conv    512  1 x 1 / 1    13 x  13 x1024   ->    13 x  13 x 512  0.177 BFLOPs\n",
            "   70 conv   1024  3 x 3 / 1    13 x  13 x 512   ->    13 x  13 x1024  1.595 BFLOPs\n",
            "   71 res   68                  13 x  13 x1024   ->    13 x  13 x1024\n",
            "   72 conv    512  1 x 1 / 1    13 x  13 x1024   ->    13 x  13 x 512  0.177 BFLOPs\n",
            "   73 conv   1024  3 x 3 / 1    13 x  13 x 512   ->    13 x  13 x1024  1.595 BFLOPs\n",
            "   74 res   71                  13 x  13 x1024   ->    13 x  13 x1024\n",
            "   75 conv    512  1 x 1 / 1    13 x  13 x1024   ->    13 x  13 x 512  0.177 BFLOPs\n",
            "   76 conv   1024  3 x 3 / 1    13 x  13 x 512   ->    13 x  13 x1024  1.595 BFLOPs\n",
            "   77 conv    512  1 x 1 / 1    13 x  13 x1024   ->    13 x  13 x 512  0.177 BFLOPs\n",
            "   78 conv   1024  3 x 3 / 1    13 x  13 x 512   ->    13 x  13 x1024  1.595 BFLOPs\n",
            "   79 conv    512  1 x 1 / 1    13 x  13 x1024   ->    13 x  13 x 512  0.177 BFLOPs\n",
            "   80 conv   1024  3 x 3 / 1    13 x  13 x 512   ->    13 x  13 x1024  1.595 BFLOPs\n",
            "   81 conv     21  1 x 1 / 1    13 x  13 x1024   ->    13 x  13 x  21  0.007 BFLOPs\n",
            "   82 yolo\n",
            "   83 route  79\n",
            "   84 conv    256  1 x 1 / 1    13 x  13 x 512   ->    13 x  13 x 256  0.044 BFLOPs\n",
            "   85 upsample            2x    13 x  13 x 256   ->    26 x  26 x 256\n",
            "   86 route  85 61\n",
            "   87 conv    256  1 x 1 / 1    26 x  26 x 768   ->    26 x  26 x 256  0.266 BFLOPs\n",
            "   88 conv    512  3 x 3 / 1    26 x  26 x 256   ->    26 x  26 x 512  1.595 BFLOPs\n",
            "   89 conv    256  1 x 1 / 1    26 x  26 x 512   ->    26 x  26 x 256  0.177 BFLOPs\n",
            "   90 conv    512  3 x 3 / 1    26 x  26 x 256   ->    26 x  26 x 512  1.595 BFLOPs\n",
            "   91 conv    256  1 x 1 / 1    26 x  26 x 512   ->    26 x  26 x 256  0.177 BFLOPs\n",
            "   92 conv    512  3 x 3 / 1    26 x  26 x 256   ->    26 x  26 x 512  1.595 BFLOPs\n",
            "   93 conv     21  1 x 1 / 1    26 x  26 x 512   ->    26 x  26 x  21  0.015 BFLOPs\n",
            "   94 yolo\n",
            "   95 route  91\n",
            "   96 conv    128  1 x 1 / 1    26 x  26 x 256   ->    26 x  26 x 128  0.044 BFLOPs\n",
            "   97 upsample            4x    26 x  26 x 128   ->   104 x 104 x 128\n",
            "   98 route  97 11\n",
            "   99 conv    128  1 x 1 / 1   104 x 104 x 256   ->   104 x 104 x 128  0.709 BFLOPs\n",
            "  100 conv    256  3 x 3 / 1   104 x 104 x 128   ->   104 x 104 x 256  6.380 BFLOPs\n",
            "  101 conv    128  1 x 1 / 1   104 x 104 x 256   ->   104 x 104 x 128  0.709 BFLOPs\n",
            "  102 conv    256  3 x 3 / 1   104 x 104 x 128   ->   104 x 104 x 256  6.380 BFLOPs\n",
            "  103 conv    128  1 x 1 / 1   104 x 104 x 256   ->   104 x 104 x 128  0.709 BFLOPs\n",
            "  104 conv    256  3 x 3 / 1   104 x 104 x 128   ->   104 x 104 x 256  6.380 BFLOPs\n",
            "  105 conv     21  1 x 1 / 1   104 x 104 x 256   ->   104 x 104 x  21  0.116 BFLOPs\n",
            "  106 yolo\n",
            "Loading weights from ./darknet53.conv.74...Done!\n",
            "Saving weights to ../YOLO/backup4//darknet-yolov3.backup\n",
            "Saving weights to ../YOLO/backup4//darknet-yolov3.backup\n",
            "Saving weights to ../YOLO/backup4//darknet-yolov3_200.weights\n",
            "Saving weights to ../YOLO/backup4//darknet-yolov3.backup\n",
            "Saving weights to ../YOLO/backup4//darknet-yolov3.backup\n",
            "Saving weights to ../YOLO/backup4//darknet-yolov3_400.weights\n",
            "Saving weights to ../YOLO/backup4//darknet-yolov3.backup\n",
            "Saving weights to ../YOLO/backup4//darknet-yolov3.backup\n",
            "Saving weights to ../YOLO/backup4//darknet-yolov3_600.weights\n",
            "Saving weights to ../YOLO/backup4//darknet-yolov3.backup\n",
            "Saving weights to ../YOLO/backup4//darknet-yolov3.backup\n",
            "Saving weights to ../YOLO/backup4//darknet-yolov3_800.weights\n",
            "Saving weights to ../YOLO/backup4//darknet-yolov3.backup\n",
            "Saving weights to ../YOLO/backup4//darknet-yolov3.backup\n",
            "Saving weights to ../YOLO/backup4//darknet-yolov3_1000.weights\n",
            "Saving weights to ../YOLO/backup4//darknet-yolov3.backup\n",
            "Saving weights to ../YOLO/backup4//darknet-yolov3.backup\n",
            "Saving weights to ../YOLO/backup4//darknet-yolov3_1200.weights\n",
            "Saving weights to ../YOLO/backup4//darknet-yolov3.backup\n",
            "Saving weights to ../YOLO/backup4//darknet-yolov3.backup\n",
            "Saving weights to ../YOLO/backup4//darknet-yolov3_1400.weights\n",
            "Saving weights to ../YOLO/backup4//darknet-yolov3.backup\n",
            "Saving weights to ../YOLO/backup4//darknet-yolov3.backup\n",
            "Saving weights to ../YOLO/backup4//darknet-yolov3_1600.weights\n",
            "Saving weights to ../YOLO/backup4//darknet-yolov3.backup\n",
            "Saving weights to ../YOLO/backup4//darknet-yolov3.backup\n",
            "Saving weights to ../YOLO/backup4//darknet-yolov3_1800.weights\n",
            "Saving weights to ../YOLO/backup4//darknet-yolov3.backup\n",
            "Saving weights to ../YOLO/backup4//darknet-yolov3.backup\n",
            "Saving weights to ../YOLO/backup4//darknet-yolov3_2000.weights\n",
            "Saving weights to ../YOLO/backup4//darknet-yolov3.backup\n",
            "Saving weights to ../YOLO/backup4//darknet-yolov3.backup\n",
            "Saving weights to ../YOLO/backup4//darknet-yolov3.backup\n",
            "Saving weights to ../YOLO/backup4//darknet-yolov3.backup\n",
            "Saving weights to ../YOLO/backup4//darknet-yolov3.backup\n",
            "Saving weights to ../YOLO/backup4//darknet-yolov3.backup\n",
            "Saving weights to ../YOLO/backup4//darknet-yolov3.backup\n",
            "Saving weights to ../YOLO/backup4//darknet-yolov3.backup\n",
            "Saving weights to ../YOLO/backup4//darknet-yolov3.backup\n",
            "Saving weights to ../YOLO/backup4//darknet-yolov3.backup\n",
            "Saving weights to ../YOLO/backup4//darknet-yolov3_3000.weights\n",
            "Saving weights to ../YOLO/backup4//darknet-yolov3.backup\n",
            "Saving weights to ../YOLO/backup4//darknet-yolov3.backup\n",
            "Saving weights to ../YOLO/backup4//darknet-yolov3.backup\n",
            "Saving weights to ../YOLO/backup4//darknet-yolov3.backup\n",
            "Saving weights to ../YOLO/backup4//darknet-yolov3.backup\n",
            "Saving weights to ../YOLO/backup4//darknet-yolov3.backup\n",
            "Saving weights to ../YOLO/backup4//darknet-yolov3.backup\n"
          ],
          "name": "stdout"
        }
      ]
    }
  ]
}